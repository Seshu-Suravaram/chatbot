{
 "cells": [
  {
   "cell_type": "code",
   "execution_count": 2,
   "id": "37a0ea26-128e-4f76-8460-d8f6e3166429",
   "metadata": {
    "tags": []
   },
   "outputs": [],
   "source": [
    "import pandas as pd\n",
    "import scipy"
   ]
  },
  {
   "cell_type": "code",
   "execution_count": 3,
   "id": "78dee8ce-b22d-4369-8b47-a47d165273ea",
   "metadata": {
    "tags": []
   },
   "outputs": [],
   "source": [
    "def split_csv_to_train_test(csv_file_path, train_df_name, test_df_name, split_ratio=0.92):\n",
    "    full_df = pd.read_csv(csv_file_path)    \n",
    "    full_df.loc[:, 'text'] = full_df['text'].astype(str)\n",
    "    full_df.loc[:, 'in_response_to_tweet_text'] = full_df['in_response_to_tweet_text'].astype(str)\n",
    "    # Calculate the number of rows for the training set based on the split ratio\n",
    "    train_size = int(split_ratio * len(full_df))\n",
    "    train_df = full_df.iloc[:train_size].copy()\n",
    "    test_df = full_df.iloc[train_size:].copy()\n",
    "    return train_df, test_df\n",
    "\n",
    "app_df, app_test_df = split_csv_to_train_test(\"twcs/by_account2/ChipotleTweets_merged.csv\", \"train_df\", \"test_df\")"
   ]
  },
  {
   "cell_type": "code",
   "execution_count": 5,
   "id": "d46d1298-3f93-455e-9450-8d6e3dad2f84",
   "metadata": {
    "tags": []
   },
   "outputs": [],
   "source": [
    "app_df.to_csv(\"training_app_data.csv\",index=False)"
   ]
  },
  {
   "cell_type": "code",
   "execution_count": 25,
   "id": "c41d1d07-9e99-4d61-8804-df4f78d204ef",
   "metadata": {
    "tags": []
   },
   "outputs": [
    {
     "data": {
      "text/plain": [
       "tweet_id                                                                                    2923755\n",
       "author_id                                                                            ChipotleTweets\n",
       "inbound                                                                                       False\n",
       "created_at                                                                2017-11-29 02:28:27+00:00\n",
       "in_response_to_tweet_id                                                                     2923756\n",
       "in_response_to_tweet_text    tried chips n queso from  for the first time tn and it changed my life\n",
       "text                                                                         Right? So good. -Becky\n",
       "response_tweet_id                                                                               NaN\n",
       "Name: 17955, dtype: object"
      ]
     },
     "execution_count": 25,
     "metadata": {},
     "output_type": "execute_result"
    }
   ],
   "source": [
    "# Set display options\n",
    "pd.set_option('display.max_colwidth', None)  # Show full column width\n",
    "pd.set_option('display.max_rows', None)     # Show all rows (or set a specific number)\n",
    "pd.set_option('display.max_columns', None)  # Show all columns\n",
    "app_test_df.iloc[844]"
   ]
  }
 ],
 "metadata": {
  "environment": {
   "kernel": "python3",
   "name": "tf2-gpu.2-12.m123",
   "type": "gcloud",
   "uri": "us-docker.pkg.dev/deeplearning-platform-release/gcr.io/tf2-gpu.2-12:m123"
  },
  "kernelspec": {
   "display_name": "Python 3 (Local)",
   "language": "python",
   "name": "python3"
  },
  "language_info": {
   "codemirror_mode": {
    "name": "ipython",
    "version": 3
   },
   "file_extension": ".py",
   "mimetype": "text/x-python",
   "name": "python",
   "nbconvert_exporter": "python",
   "pygments_lexer": "ipython3",
   "version": "3.10.14"
  }
 },
 "nbformat": 4,
 "nbformat_minor": 5
}
